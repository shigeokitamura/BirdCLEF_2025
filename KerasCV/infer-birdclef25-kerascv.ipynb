{
 "cells": [
  {
   "cell_type": "markdown",
   "id": "f4d714f9",
   "metadata": {
    "papermill": {
     "duration": 0.00737,
     "end_time": "2025-05-23T17:59:38.340405",
     "exception": false,
     "start_time": "2025-05-23T17:59:38.333035",
     "status": "completed"
    },
    "tags": []
   },
   "source": [
    "# Import Libraries"
   ]
  },
  {
   "cell_type": "code",
   "execution_count": 1,
   "id": "bb115e2c",
   "metadata": {
    "_cell_guid": "b1076dfc-b9ad-4769-8c92-a6c4dae69d19",
    "_kg_hide-output": true,
    "_uuid": "8f2839f25d086af736a60e9eeb907d3b93b6e0e5",
    "execution": {
     "iopub.execute_input": "2025-05-23T17:59:38.355430Z",
     "iopub.status.busy": "2025-05-23T17:59:38.355086Z",
     "iopub.status.idle": "2025-05-23T18:00:05.446306Z",
     "shell.execute_reply": "2025-05-23T18:00:05.444905Z"
    },
    "papermill": {
     "duration": 27.102403,
     "end_time": "2025-05-23T18:00:05.449002",
     "exception": false,
     "start_time": "2025-05-23T17:59:38.346599",
     "status": "completed"
    },
    "tags": []
   },
   "outputs": [
    {
     "name": "stderr",
     "output_type": "stream",
     "text": [
      "2025-05-23 17:59:45.904054: E external/local_xla/xla/stream_executor/cuda/cuda_dnn.cc:9261] Unable to register cuDNN factory: Attempting to register factory for plugin cuDNN when one has already been registered\n",
      "2025-05-23 17:59:45.904212: E external/local_xla/xla/stream_executor/cuda/cuda_fft.cc:607] Unable to register cuFFT factory: Attempting to register factory for plugin cuFFT when one has already been registered\n",
      "2025-05-23 17:59:46.110945: E external/local_xla/xla/stream_executor/cuda/cuda_blas.cc:1515] Unable to register cuBLAS factory: Attempting to register factory for plugin cuBLAS when one has already been registered\n",
      "/tmp/ipykernel_18/1585041062.py:23: MatplotlibDeprecationWarning: The get_cmap function was deprecated in Matplotlib 3.7 and will be removed two minor releases later. Use ``matplotlib.colormaps[name]`` or ``matplotlib.colormaps.get_cmap(obj)`` instead.\n",
      "  cmap = mpl.cm.get_cmap('coolwarm')\n"
     ]
    }
   ],
   "source": [
    "import os\n",
    "os.environ[\"KERAS_BACKEND\"] = \"tensorflow\"  # \"jax\" or \"tensorflow\" or \"torch\" \n",
    "\n",
    "import keras_cv\n",
    "import keras\n",
    "import keras.backend as K\n",
    "import tensorflow as tf\n",
    "import tensorflow_io as tfio\n",
    "\n",
    "import numpy as np \n",
    "import pandas as pd\n",
    "\n",
    "from glob import glob\n",
    "from tqdm import tqdm\n",
    "\n",
    "import librosa\n",
    "import IPython.display as ipd\n",
    "import librosa.display as lid\n",
    "\n",
    "import matplotlib.pyplot as plt\n",
    "import matplotlib as mpl\n",
    "\n",
    "cmap = mpl.cm.get_cmap('coolwarm')"
   ]
  },
  {
   "cell_type": "markdown",
   "id": "f0fef8e2",
   "metadata": {
    "papermill": {
     "duration": 0.003958,
     "end_time": "2025-05-23T18:00:05.457468",
     "exception": false,
     "start_time": "2025-05-23T18:00:05.453510",
     "status": "completed"
    },
    "tags": []
   },
   "source": [
    "# Configuration"
   ]
  },
  {
   "cell_type": "code",
   "execution_count": 2,
   "id": "275d784a",
   "metadata": {
    "execution": {
     "iopub.execute_input": "2025-05-23T18:00:05.468949Z",
     "iopub.status.busy": "2025-05-23T18:00:05.468325Z",
     "iopub.status.idle": "2025-05-23T18:00:05.514233Z",
     "shell.execute_reply": "2025-05-23T18:00:05.513065Z"
    },
    "papermill": {
     "duration": 0.055072,
     "end_time": "2025-05-23T18:00:05.516943",
     "exception": false,
     "start_time": "2025-05-23T18:00:05.461871",
     "status": "completed"
    },
    "tags": []
   },
   "outputs": [],
   "source": [
    "class CFG:\n",
    "    seed = 42\n",
    "    \n",
    "    # Input image size and batch size\n",
    "    img_size = [128, 384]\n",
    "    \n",
    "    # Audio duration, sample rate, and length\n",
    "    duration = 15 # second\n",
    "    sample_rate = 32000\n",
    "    audio_len = duration*sample_rate\n",
    "    \n",
    "    # STFT parameters\n",
    "    nfft = 2028\n",
    "    window = 2048\n",
    "    hop_length = audio_len // (img_size[1] - 1)\n",
    "    fmin = 20\n",
    "    fmax = 16000\n",
    "    \n",
    "    # Number of epochs, model name\n",
    "    preset = 'efficientnetv2_b2_imagenet'\n",
    "\n",
    "    # Class Labels for BirdCLEF 25\n",
    "    class_names = sorted(os.listdir('/kaggle/input/birdclef-2025/train_audio/'))\n",
    "    num_classes = len(class_names)\n",
    "    class_labels = list(range(num_classes))\n",
    "    label2name = dict(zip(class_labels, class_names))\n",
    "    name2label = {v:k for k,v in label2name.items()}"
   ]
  },
  {
   "cell_type": "markdown",
   "id": "2d67ad2d",
   "metadata": {
    "papermill": {
     "duration": 0.00408,
     "end_time": "2025-05-23T18:00:05.525591",
     "exception": false,
     "start_time": "2025-05-23T18:00:05.521511",
     "status": "completed"
    },
    "tags": []
   },
   "source": [
    "# Reproducibility\n",
    "Sets value for random seed to produce similar result in each run."
   ]
  },
  {
   "cell_type": "code",
   "execution_count": 3,
   "id": "2bb3d821",
   "metadata": {
    "_kg_hide-input": true,
    "execution": {
     "iopub.execute_input": "2025-05-23T18:00:05.536063Z",
     "iopub.status.busy": "2025-05-23T18:00:05.535684Z",
     "iopub.status.idle": "2025-05-23T18:00:05.543612Z",
     "shell.execute_reply": "2025-05-23T18:00:05.541943Z"
    },
    "papermill": {
     "duration": 0.016844,
     "end_time": "2025-05-23T18:00:05.546801",
     "exception": false,
     "start_time": "2025-05-23T18:00:05.529957",
     "status": "completed"
    },
    "tags": []
   },
   "outputs": [],
   "source": [
    "tf.keras.utils.set_random_seed(CFG.seed)"
   ]
  },
  {
   "cell_type": "markdown",
   "id": "034a2aaf",
   "metadata": {
    "papermill": {
     "duration": 0.00573,
     "end_time": "2025-05-23T18:00:05.557207",
     "exception": false,
     "start_time": "2025-05-23T18:00:05.551477",
     "status": "completed"
    },
    "tags": []
   },
   "source": [
    "# Dataset Path"
   ]
  },
  {
   "cell_type": "code",
   "execution_count": 4,
   "id": "a4f357d0",
   "metadata": {
    "_kg_hide-input": true,
    "execution": {
     "iopub.execute_input": "2025-05-23T18:00:05.568231Z",
     "iopub.status.busy": "2025-05-23T18:00:05.567848Z",
     "iopub.status.idle": "2025-05-23T18:00:05.573424Z",
     "shell.execute_reply": "2025-05-23T18:00:05.572181Z"
    },
    "papermill": {
     "duration": 0.014497,
     "end_time": "2025-05-23T18:00:05.576351",
     "exception": false,
     "start_time": "2025-05-23T18:00:05.561854",
     "status": "completed"
    },
    "tags": []
   },
   "outputs": [],
   "source": [
    "BASE_PATH = '/kaggle/input/birdclef-2025'"
   ]
  },
  {
   "cell_type": "markdown",
   "id": "5e42e37d",
   "metadata": {
    "papermill": {
     "duration": 0.005196,
     "end_time": "2025-05-23T18:00:05.586172",
     "exception": false,
     "start_time": "2025-05-23T18:00:05.580976",
     "status": "completed"
    },
    "tags": []
   },
   "source": [
    "# Test Data"
   ]
  },
  {
   "cell_type": "code",
   "execution_count": 5,
   "id": "c16c6943",
   "metadata": {
    "_kg_hide-input": true,
    "execution": {
     "iopub.execute_input": "2025-05-23T18:00:05.597159Z",
     "iopub.status.busy": "2025-05-23T18:00:05.596767Z",
     "iopub.status.idle": "2025-05-23T18:00:05.817899Z",
     "shell.execute_reply": "2025-05-23T18:00:05.816440Z"
    },
    "papermill": {
     "duration": 0.229595,
     "end_time": "2025-05-23T18:00:05.820644",
     "exception": false,
     "start_time": "2025-05-23T18:00:05.591049",
     "status": "completed"
    },
    "tags": []
   },
   "outputs": [
    {
     "data": {
      "text/html": [
       "<div>\n",
       "<style scoped>\n",
       "    .dataframe tbody tr th:only-of-type {\n",
       "        vertical-align: middle;\n",
       "    }\n",
       "\n",
       "    .dataframe tbody tr th {\n",
       "        vertical-align: top;\n",
       "    }\n",
       "\n",
       "    .dataframe thead th {\n",
       "        text-align: right;\n",
       "    }\n",
       "</style>\n",
       "<table border=\"1\" class=\"dataframe\">\n",
       "  <thead>\n",
       "    <tr style=\"text-align: right;\">\n",
       "      <th></th>\n",
       "      <th>filepath</th>\n",
       "    </tr>\n",
       "  </thead>\n",
       "  <tbody>\n",
       "    <tr>\n",
       "      <th>0</th>\n",
       "      <td>/kaggle/input/birdclef-2025/train_soundscapes/...</td>\n",
       "    </tr>\n",
       "    <tr>\n",
       "      <th>1</th>\n",
       "      <td>/kaggle/input/birdclef-2025/train_soundscapes/...</td>\n",
       "    </tr>\n",
       "    <tr>\n",
       "      <th>2</th>\n",
       "      <td>/kaggle/input/birdclef-2025/train_soundscapes/...</td>\n",
       "    </tr>\n",
       "    <tr>\n",
       "      <th>3</th>\n",
       "      <td>/kaggle/input/birdclef-2025/train_soundscapes/...</td>\n",
       "    </tr>\n",
       "    <tr>\n",
       "      <th>4</th>\n",
       "      <td>/kaggle/input/birdclef-2025/train_soundscapes/...</td>\n",
       "    </tr>\n",
       "  </tbody>\n",
       "</table>\n",
       "</div>"
      ],
      "text/plain": [
       "                                            filepath\n",
       "0  /kaggle/input/birdclef-2025/train_soundscapes/...\n",
       "1  /kaggle/input/birdclef-2025/train_soundscapes/...\n",
       "2  /kaggle/input/birdclef-2025/train_soundscapes/...\n",
       "3  /kaggle/input/birdclef-2025/train_soundscapes/...\n",
       "4  /kaggle/input/birdclef-2025/train_soundscapes/..."
      ]
     },
     "execution_count": 5,
     "metadata": {},
     "output_type": "execute_result"
    }
   ],
   "source": [
    "test_paths = glob(f'{BASE_PATH}/test_soundscapes/*ogg')\n",
    "# During commit use `train_soundscapes` data as there is no `test` data.\n",
    "# During submission `test_soundscapes` data will automatically be populated.\n",
    "if len(test_paths)==0:\n",
    "    test_paths = glob(f'{BASE_PATH}/train_soundscapes/*ogg')[:10]\n",
    "test_df = pd.DataFrame(test_paths, columns=['filepath'])\n",
    "test_df.head()"
   ]
  },
  {
   "cell_type": "markdown",
   "id": "037c26d3",
   "metadata": {
    "papermill": {
     "duration": 0.004243,
     "end_time": "2025-05-23T18:00:05.830198",
     "exception": false,
     "start_time": "2025-05-23T18:00:05.825955",
     "status": "completed"
    },
    "tags": []
   },
   "source": [
    "# Modeling\n",
    "\n",
    "Note that our model was trained on `10 second` duration audio files, but we will infer on `5-second` audio files (as per competition rules). To facilitate this, we have set the model input shape to `(None, None, 3)`, which will allow us to have variable-length input during training and inference."
   ]
  },
  {
   "cell_type": "code",
   "execution_count": 6,
   "id": "65d58204",
   "metadata": {
    "_kg_hide-input": true,
    "execution": {
     "iopub.execute_input": "2025-05-23T18:00:05.841388Z",
     "iopub.status.busy": "2025-05-23T18:00:05.840469Z",
     "iopub.status.idle": "2025-05-23T18:00:14.791019Z",
     "shell.execute_reply": "2025-05-23T18:00:14.789479Z"
    },
    "papermill": {
     "duration": 8.959246,
     "end_time": "2025-05-23T18:00:14.794019",
     "exception": false,
     "start_time": "2025-05-23T18:00:05.834773",
     "status": "completed"
    },
    "tags": []
   },
   "outputs": [
    {
     "name": "stderr",
     "output_type": "stream",
     "text": [
      "Attaching 'config.json' from model 'keras/efficientnetv2/keras/efficientnetv2_b2_imagenet/2' to your Kaggle notebook...\n",
      "Attaching 'config.json' from model 'keras/efficientnetv2/keras/efficientnetv2_b2_imagenet/2' to your Kaggle notebook...\n",
      "Attaching 'model.weights.h5' from model 'keras/efficientnetv2/keras/efficientnetv2_b2_imagenet/2' to your Kaggle notebook...\n"
     ]
    }
   ],
   "source": [
    "# Create an input layer for the model\n",
    "inp = keras.layers.Input(shape=(None, None, 3))\n",
    "# Pretrained backbone\n",
    "backbone = keras_cv.models.EfficientNetV2Backbone.from_preset(\n",
    "    CFG.preset,\n",
    ")\n",
    "out = keras_cv.models.ImageClassifier(\n",
    "    backbone=backbone,\n",
    "    num_classes=CFG.num_classes,\n",
    "    name=\"classifier\"\n",
    ")(inp)\n",
    "# Build model\n",
    "model = keras.models.Model(inputs=inp, outputs=out)\n",
    "# Load weights of trained model\n",
    "model.load_weights(\"/kaggle/input/train-birdclef25-kerascv/best_model.weights.h5\")"
   ]
  },
  {
   "cell_type": "markdown",
   "id": "d1533508",
   "metadata": {
    "papermill": {
     "duration": 0.004574,
     "end_time": "2025-05-23T18:00:14.804913",
     "exception": false,
     "start_time": "2025-05-23T18:00:14.800339",
     "status": "completed"
    },
    "tags": []
   },
   "source": [
    "# Data Loader\n",
    "\n",
    "The following code will decode the raw audio from `.ogg` file and also decode the spectrogram from the `audio` file. Additionally, we will apply Z-Score standardization and Min-Max normalization to ensure consistent inputs to the model."
   ]
  },
  {
   "cell_type": "code",
   "execution_count": 7,
   "id": "b722f6ac",
   "metadata": {
    "execution": {
     "iopub.execute_input": "2025-05-23T18:00:14.816987Z",
     "iopub.status.busy": "2025-05-23T18:00:14.816431Z",
     "iopub.status.idle": "2025-05-23T18:00:14.828797Z",
     "shell.execute_reply": "2025-05-23T18:00:14.827619Z"
    },
    "papermill": {
     "duration": 0.020997,
     "end_time": "2025-05-23T18:00:14.831124",
     "exception": false,
     "start_time": "2025-05-23T18:00:14.810127",
     "status": "completed"
    },
    "tags": []
   },
   "outputs": [],
   "source": [
    "# Decodes Audio\n",
    "def build_decoder(with_labels=True, dim=1024):\n",
    "    def get_audio(filepath):\n",
    "        file_bytes = tf.io.read_file(filepath)\n",
    "        audio = tfio.audio.decode_vorbis(file_bytes) # decode .ogg file\n",
    "        audio = tf.cast(audio, tf.float32)\n",
    "        if tf.shape(audio)[1]>1: # stereo -> mono\n",
    "            audio = audio[...,0:1]\n",
    "        audio = tf.squeeze(audio, axis=-1)\n",
    "        return audio\n",
    "    \n",
    "    def create_frames(audio, duration=5, sr=32000):\n",
    "        frame_size = int(duration * sr)\n",
    "        audio = tf.pad(audio[..., None], [[0, tf.shape(audio)[0] % frame_size], [0, 0]]) # pad the end\n",
    "        audio = tf.squeeze(audio) # remove extra dimension added for padding\n",
    "        frames = tf.reshape(audio, [-1, frame_size]) # shape: [num_frames, frame_size]\n",
    "        return frames\n",
    "    \n",
    "    def apply_preproc(spec):\n",
    "        # Standardize\n",
    "        mean = tf.math.reduce_mean(spec)\n",
    "        std = tf.math.reduce_std(spec)\n",
    "        spec = tf.where(tf.math.equal(std, 0), spec - mean, (spec - mean) / std)\n",
    "\n",
    "        # Normalize using Min-Max\n",
    "        min_val = tf.math.reduce_min(spec)\n",
    "        max_val = tf.math.reduce_max(spec)\n",
    "        spec = tf.where(tf.math.equal(max_val - min_val, 0), spec - min_val,\n",
    "                              (spec - min_val) / (max_val - min_val))\n",
    "        return spec\n",
    "\n",
    "    def decode(path):\n",
    "        # Load audio file\n",
    "        audio = get_audio(path)\n",
    "        # Split audio file into frames with each having 5 seecond duration\n",
    "        audio = create_frames(audio)\n",
    "        # Convert audio to spectrogram\n",
    "        spec = keras.layers.MelSpectrogram(num_mel_bins=CFG.img_size[0],\n",
    "                                             fft_length=CFG.nfft, \n",
    "                                              sequence_stride=CFG.hop_length, \n",
    "                                              sampling_rate=CFG.sample_rate)(audio)\n",
    "        # Apply normalization and standardization\n",
    "        spec = apply_preproc(spec)\n",
    "        # Covnert spectrogram to 3 channel image (for imagenet)\n",
    "        spec = tf.tile(spec[..., None], [1, 1, 1, 3])\n",
    "        return spec\n",
    "    \n",
    "    return decode"
   ]
  },
  {
   "cell_type": "code",
   "execution_count": 8,
   "id": "faa04964",
   "metadata": {
    "execution": {
     "iopub.execute_input": "2025-05-23T18:00:14.842475Z",
     "iopub.status.busy": "2025-05-23T18:00:14.842089Z",
     "iopub.status.idle": "2025-05-23T18:00:14.849434Z",
     "shell.execute_reply": "2025-05-23T18:00:14.848043Z"
    },
    "papermill": {
     "duration": 0.016286,
     "end_time": "2025-05-23T18:00:14.852171",
     "exception": false,
     "start_time": "2025-05-23T18:00:14.835885",
     "status": "completed"
    },
    "tags": []
   },
   "outputs": [],
   "source": [
    "# Build data loader\n",
    "def build_dataset(paths, batch_size=1, decode_fn=None, cache=False):\n",
    "    if decode_fn is None:\n",
    "        decode_fn = build_decoder(dim=CFG.audio_len) # decoder\n",
    "    AUTO = tf.data.experimental.AUTOTUNE\n",
    "    slices = (paths,)\n",
    "    ds = tf.data.Dataset.from_tensor_slices(slices)\n",
    "    ds = ds.map(decode_fn, num_parallel_calls=AUTO) # decode audio to spectrograms then create frames\n",
    "    ds = ds.cache() if cache else ds # cache files\n",
    "    ds = ds.batch(batch_size, drop_remainder=False) # create batches\n",
    "    ds = ds.prefetch(AUTO)\n",
    "    return ds"
   ]
  },
  {
   "cell_type": "markdown",
   "id": "8211ad50",
   "metadata": {
    "papermill": {
     "duration": 0.00446,
     "end_time": "2025-05-23T18:00:14.861406",
     "exception": false,
     "start_time": "2025-05-23T18:00:14.856946",
     "status": "completed"
    },
    "tags": []
   },
   "source": [
    "# Inference"
   ]
  },
  {
   "cell_type": "code",
   "execution_count": 9,
   "id": "d10253ef",
   "metadata": {
    "execution": {
     "iopub.execute_input": "2025-05-23T18:00:14.873012Z",
     "iopub.status.busy": "2025-05-23T18:00:14.872422Z",
     "iopub.status.idle": "2025-05-23T18:00:25.326421Z",
     "shell.execute_reply": "2025-05-23T18:00:25.325063Z"
    },
    "papermill": {
     "duration": 10.463116,
     "end_time": "2025-05-23T18:00:25.329442",
     "exception": false,
     "start_time": "2025-05-23T18:00:14.866326",
     "status": "completed"
    },
    "tags": []
   },
   "outputs": [
    {
     "name": "stderr",
     "output_type": "stream",
     "text": [
      "test : 100%|██████████| 10/10 [00:08<00:00,  1.15it/s]\n"
     ]
    }
   ],
   "source": [
    "# Initialize empty list to store ids\n",
    "ids = []\n",
    "\n",
    "# Initialize empty array to store predictions\n",
    "preds = np.empty(shape=(0, CFG.num_classes), dtype='float32')\n",
    "\n",
    "# Build test dataset\n",
    "test_paths = test_df.filepath.tolist()\n",
    "test_ds = build_dataset(paths=test_paths, batch_size=1)\n",
    "\n",
    "# Iterate over each audio file in the test dataset\n",
    "for idx, specs in enumerate(tqdm(iter(test_ds), desc='test ', total=len(test_df))):\n",
    "    # Extract the filename without the extension\n",
    "    filename = test_paths[idx].split('/')[-1].replace('.ogg','')\n",
    "    \n",
    "    # Convert to backend-specific tensor while excluding extra dimension\n",
    "    specs = keras.ops.convert_to_tensor(specs[0])\n",
    "    \n",
    "    # Predict bird species for all frames in a recording using all trained models\n",
    "    frame_preds = model.predict(specs, verbose=0)\n",
    "    \n",
    "    # Create a ID for each frame in a recording using the filename and frame number\n",
    "    frame_ids = [f'{filename}_{(frame_id+1)*5}' for frame_id in range(len(frame_preds))]\n",
    "    \n",
    "    # Concatenate the ids\n",
    "    ids += frame_ids\n",
    "    # Concatenate the predictions\n",
    "    preds = np.concatenate([preds, frame_preds], axis=0)"
   ]
  },
  {
   "cell_type": "markdown",
   "id": "e2aa3b53",
   "metadata": {
    "papermill": {
     "duration": 0.007222,
     "end_time": "2025-05-23T18:00:25.342627",
     "exception": false,
     "start_time": "2025-05-23T18:00:25.335405",
     "status": "completed"
    },
    "tags": []
   },
   "source": [
    "# Submission"
   ]
  },
  {
   "cell_type": "code",
   "execution_count": 10,
   "id": "a19758e9",
   "metadata": {
    "execution": {
     "iopub.execute_input": "2025-05-23T18:00:25.358700Z",
     "iopub.status.busy": "2025-05-23T18:00:25.357451Z",
     "iopub.status.idle": "2025-05-23T18:00:25.541576Z",
     "shell.execute_reply": "2025-05-23T18:00:25.540028Z"
    },
    "papermill": {
     "duration": 0.195254,
     "end_time": "2025-05-23T18:00:25.544249",
     "exception": false,
     "start_time": "2025-05-23T18:00:25.348995",
     "status": "completed"
    },
    "tags": []
   },
   "outputs": [
    {
     "data": {
      "text/html": [
       "<div>\n",
       "<style scoped>\n",
       "    .dataframe tbody tr th:only-of-type {\n",
       "        vertical-align: middle;\n",
       "    }\n",
       "\n",
       "    .dataframe tbody tr th {\n",
       "        vertical-align: top;\n",
       "    }\n",
       "\n",
       "    .dataframe thead th {\n",
       "        text-align: right;\n",
       "    }\n",
       "</style>\n",
       "<table border=\"1\" class=\"dataframe\">\n",
       "  <thead>\n",
       "    <tr style=\"text-align: right;\">\n",
       "      <th></th>\n",
       "      <th>row_id</th>\n",
       "      <th>1139490</th>\n",
       "      <th>1192948</th>\n",
       "      <th>1194042</th>\n",
       "      <th>126247</th>\n",
       "      <th>1346504</th>\n",
       "      <th>134933</th>\n",
       "      <th>135045</th>\n",
       "      <th>1462711</th>\n",
       "      <th>1462737</th>\n",
       "      <th>...</th>\n",
       "      <th>yebfly1</th>\n",
       "      <th>yebsee1</th>\n",
       "      <th>yecspi2</th>\n",
       "      <th>yectyr1</th>\n",
       "      <th>yehbla2</th>\n",
       "      <th>yehcar1</th>\n",
       "      <th>yelori1</th>\n",
       "      <th>yeofly1</th>\n",
       "      <th>yercac1</th>\n",
       "      <th>ywcpar</th>\n",
       "    </tr>\n",
       "  </thead>\n",
       "  <tbody>\n",
       "    <tr>\n",
       "      <th>0</th>\n",
       "      <td>H27_20230421_155000_5</td>\n",
       "      <td>0.000126</td>\n",
       "      <td>0.000048</td>\n",
       "      <td>0.000036</td>\n",
       "      <td>0.000037</td>\n",
       "      <td>0.000015</td>\n",
       "      <td>0.000019</td>\n",
       "      <td>0.000043</td>\n",
       "      <td>0.000068</td>\n",
       "      <td>0.000088</td>\n",
       "      <td>...</td>\n",
       "      <td>0.001614</td>\n",
       "      <td>0.000416</td>\n",
       "      <td>0.000369</td>\n",
       "      <td>0.000126</td>\n",
       "      <td>0.000157</td>\n",
       "      <td>0.000097</td>\n",
       "      <td>0.003912</td>\n",
       "      <td>0.002047</td>\n",
       "      <td>0.000435</td>\n",
       "      <td>0.000050</td>\n",
       "    </tr>\n",
       "    <tr>\n",
       "      <th>1</th>\n",
       "      <td>H27_20230421_155000_10</td>\n",
       "      <td>0.000140</td>\n",
       "      <td>0.000074</td>\n",
       "      <td>0.000036</td>\n",
       "      <td>0.000077</td>\n",
       "      <td>0.000032</td>\n",
       "      <td>0.000062</td>\n",
       "      <td>0.000225</td>\n",
       "      <td>0.000098</td>\n",
       "      <td>0.000154</td>\n",
       "      <td>...</td>\n",
       "      <td>0.008863</td>\n",
       "      <td>0.000797</td>\n",
       "      <td>0.001613</td>\n",
       "      <td>0.001405</td>\n",
       "      <td>0.000716</td>\n",
       "      <td>0.000716</td>\n",
       "      <td>0.003513</td>\n",
       "      <td>0.019489</td>\n",
       "      <td>0.000712</td>\n",
       "      <td>0.000198</td>\n",
       "    </tr>\n",
       "    <tr>\n",
       "      <th>2</th>\n",
       "      <td>H27_20230421_155000_15</td>\n",
       "      <td>0.000232</td>\n",
       "      <td>0.000156</td>\n",
       "      <td>0.000052</td>\n",
       "      <td>0.000117</td>\n",
       "      <td>0.000285</td>\n",
       "      <td>0.000215</td>\n",
       "      <td>0.000492</td>\n",
       "      <td>0.000124</td>\n",
       "      <td>0.000438</td>\n",
       "      <td>...</td>\n",
       "      <td>0.013232</td>\n",
       "      <td>0.005964</td>\n",
       "      <td>0.023722</td>\n",
       "      <td>0.003197</td>\n",
       "      <td>0.002669</td>\n",
       "      <td>0.001660</td>\n",
       "      <td>0.001834</td>\n",
       "      <td>0.029799</td>\n",
       "      <td>0.001742</td>\n",
       "      <td>0.000668</td>\n",
       "    </tr>\n",
       "    <tr>\n",
       "      <th>3</th>\n",
       "      <td>H27_20230421_155000_20</td>\n",
       "      <td>0.000140</td>\n",
       "      <td>0.000123</td>\n",
       "      <td>0.000041</td>\n",
       "      <td>0.000166</td>\n",
       "      <td>0.000199</td>\n",
       "      <td>0.000426</td>\n",
       "      <td>0.000224</td>\n",
       "      <td>0.000080</td>\n",
       "      <td>0.000171</td>\n",
       "      <td>...</td>\n",
       "      <td>0.015796</td>\n",
       "      <td>0.001916</td>\n",
       "      <td>0.006196</td>\n",
       "      <td>0.007164</td>\n",
       "      <td>0.000723</td>\n",
       "      <td>0.003185</td>\n",
       "      <td>0.000663</td>\n",
       "      <td>0.025879</td>\n",
       "      <td>0.000895</td>\n",
       "      <td>0.000335</td>\n",
       "    </tr>\n",
       "    <tr>\n",
       "      <th>4</th>\n",
       "      <td>H27_20230421_155000_25</td>\n",
       "      <td>0.000133</td>\n",
       "      <td>0.000111</td>\n",
       "      <td>0.000041</td>\n",
       "      <td>0.000170</td>\n",
       "      <td>0.000176</td>\n",
       "      <td>0.000404</td>\n",
       "      <td>0.000181</td>\n",
       "      <td>0.000091</td>\n",
       "      <td>0.000169</td>\n",
       "      <td>...</td>\n",
       "      <td>0.013331</td>\n",
       "      <td>0.002066</td>\n",
       "      <td>0.005659</td>\n",
       "      <td>0.007774</td>\n",
       "      <td>0.001838</td>\n",
       "      <td>0.004333</td>\n",
       "      <td>0.001150</td>\n",
       "      <td>0.037410</td>\n",
       "      <td>0.001109</td>\n",
       "      <td>0.000505</td>\n",
       "    </tr>\n",
       "  </tbody>\n",
       "</table>\n",
       "<p>5 rows × 207 columns</p>\n",
       "</div>"
      ],
      "text/plain": [
       "                   row_id   1139490   1192948   1194042    126247   1346504  \\\n",
       "0   H27_20230421_155000_5  0.000126  0.000048  0.000036  0.000037  0.000015   \n",
       "1  H27_20230421_155000_10  0.000140  0.000074  0.000036  0.000077  0.000032   \n",
       "2  H27_20230421_155000_15  0.000232  0.000156  0.000052  0.000117  0.000285   \n",
       "3  H27_20230421_155000_20  0.000140  0.000123  0.000041  0.000166  0.000199   \n",
       "4  H27_20230421_155000_25  0.000133  0.000111  0.000041  0.000170  0.000176   \n",
       "\n",
       "     134933    135045   1462711   1462737  ...   yebfly1   yebsee1   yecspi2  \\\n",
       "0  0.000019  0.000043  0.000068  0.000088  ...  0.001614  0.000416  0.000369   \n",
       "1  0.000062  0.000225  0.000098  0.000154  ...  0.008863  0.000797  0.001613   \n",
       "2  0.000215  0.000492  0.000124  0.000438  ...  0.013232  0.005964  0.023722   \n",
       "3  0.000426  0.000224  0.000080  0.000171  ...  0.015796  0.001916  0.006196   \n",
       "4  0.000404  0.000181  0.000091  0.000169  ...  0.013331  0.002066  0.005659   \n",
       "\n",
       "    yectyr1   yehbla2   yehcar1   yelori1   yeofly1   yercac1    ywcpar  \n",
       "0  0.000126  0.000157  0.000097  0.003912  0.002047  0.000435  0.000050  \n",
       "1  0.001405  0.000716  0.000716  0.003513  0.019489  0.000712  0.000198  \n",
       "2  0.003197  0.002669  0.001660  0.001834  0.029799  0.001742  0.000668  \n",
       "3  0.007164  0.000723  0.003185  0.000663  0.025879  0.000895  0.000335  \n",
       "4  0.007774  0.001838  0.004333  0.001150  0.037410  0.001109  0.000505  \n",
       "\n",
       "[5 rows x 207 columns]"
      ]
     },
     "execution_count": 10,
     "metadata": {},
     "output_type": "execute_result"
    }
   ],
   "source": [
    "# Submit prediction\n",
    "pred_df = pd.DataFrame(ids, columns=['row_id'])\n",
    "pred_df.loc[:, CFG.class_names] = preds\n",
    "pred_df.to_csv('submission.csv',index=False)\n",
    "pred_df.head()"
   ]
  }
 ],
 "metadata": {
  "kaggle": {
   "accelerator": "none",
   "dataSources": [
    {
     "databundleVersionId": 11361821,
     "sourceId": 91844,
     "sourceType": "competition"
    },
    {
     "sourceId": 241457087,
     "sourceType": "kernelVersion"
    },
    {
     "modelId": 2797,
     "modelInstanceId": 4596,
     "sourceId": 6125,
     "sourceType": "modelInstanceVersion"
    },
    {
     "modelId": 2797,
     "modelInstanceId": 4598,
     "sourceId": 6127,
     "sourceType": "modelInstanceVersion"
    }
   ],
   "dockerImageVersionId": 30698,
   "isGpuEnabled": false,
   "isInternetEnabled": false,
   "language": "python",
   "sourceType": "notebook"
  },
  "kernelspec": {
   "display_name": "Python 3",
   "language": "python",
   "name": "python3"
  },
  "language_info": {
   "codemirror_mode": {
    "name": "ipython",
    "version": 3
   },
   "file_extension": ".py",
   "mimetype": "text/x-python",
   "name": "python",
   "nbconvert_exporter": "python",
   "pygments_lexer": "ipython3",
   "version": "3.10.13"
  },
  "papermill": {
   "default_parameters": {},
   "duration": 53.884425,
   "end_time": "2025-05-23T18:00:28.385261",
   "environment_variables": {},
   "exception": null,
   "input_path": "__notebook__.ipynb",
   "output_path": "__notebook__.ipynb",
   "parameters": {},
   "start_time": "2025-05-23T17:59:34.500836",
   "version": "2.5.0"
  }
 },
 "nbformat": 4,
 "nbformat_minor": 5
}
